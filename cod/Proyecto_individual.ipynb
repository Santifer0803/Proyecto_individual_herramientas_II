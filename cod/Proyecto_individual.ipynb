{
 "cells": [
  {
   "cell_type": "markdown",
   "id": "8af19451-c2af-40de-8cfe-3b20427a8e5e",
   "metadata": {},
   "source": [
    "# Python en la vida cotidiana"
   ]
  },
  {
   "cell_type": "markdown",
   "id": "94d72bdf-ce37-48ad-a533-c99317ea29c8",
   "metadata": {},
   "source": [
    "## Mensajes de WhatsApp"
   ]
  },
  {
   "cell_type": "markdown",
   "id": "0ed2cc6d-54d2-4590-b3e5-962a6f45c6a8",
   "metadata": {},
   "source": [
    "Para este ejercicio se usó de referencia un tutorial sobre el [envío de WhatsApps desde python](https://www.analyticslane.com/2022/03/07/enviar-mensajes-de-whatsapp-con-python/)."
   ]
  },
  {
   "cell_type": "markdown",
   "id": "8d8a693e-f491-4cd8-923d-a307c5bafc7f",
   "metadata": {},
   "source": [
    "### Instalación de paquetes"
   ]
  },
  {
   "cell_type": "code",
   "execution_count": 9,
   "id": "51b352ab-50ac-4a18-80ae-044addcee1ec",
   "metadata": {},
   "outputs": [],
   "source": [
    "import pywhatkit as kit # Para enviar mensajes por WhatsApp\n",
    "import sys # Para establecer las rutas de acceso\n",
    "\n",
    "# La ruta es dentro del sistema del creador, cambiar a donde se tenga el módulo MensajesWhatsapp\n",
    "sys.path.append(r'C:\\Users\\mapis\\OneDrive\\Documents\\Universidad\\5 - Quinto semestre\\Herramientas para las ciencias de datos II\\Proyecto individual\\cod')"
   ]
  },
  {
   "cell_type": "code",
   "execution_count": 10,
   "id": "652cbb31-8fda-4c17-9bc5-d240904a661a",
   "metadata": {},
   "outputs": [],
   "source": [
    "# Módulo creado\n",
    "from MensajesWhatsapp import MensajesWhatsapp"
   ]
  },
  {
   "cell_type": "markdown",
   "id": "53843370-67a5-45b2-b812-1fefd7bbc896",
   "metadata": {},
   "source": [
    "Se manda un mensaje de prueba."
   ]
  },
  {
   "cell_type": "code",
   "execution_count": 13,
   "id": "cdced164-0b87-420a-a9de-795edadaae7e",
   "metadata": {},
   "outputs": [],
   "source": [
    "# Por la privacidad de la persona, no se deja un número escrito, en caso de ser de Costa Rica basta poner el número receptor pegado al codigo del país\n",
    "numero = MensajesWhatsapp('+506')\n",
    "numero.mensaje_instantaneo('Hola, acá va el mensaje')"
   ]
  },
  {
   "cell_type": "markdown",
   "id": "77901b23-3701-46b2-92b9-6f001ec13113",
   "metadata": {},
   "source": [
    "## Automatización de procesos en excel"
   ]
  },
  {
   "cell_type": "markdown",
   "id": "cd51d16d-3441-4be1-a801-4016404ba87f",
   "metadata": {},
   "source": [
    "Para la realización de este ejercicio se buscó la documentación de la librería [xlsxwriter](https://xlsxwriter.readthedocs.io), la cual trae múltiples ejemplos. La idea del ejercicio es crear una clase que permita automatizar algunos de los procesos que se podrían ocupar en Excel, usando las herramientas que proporciona python."
   ]
  },
  {
   "cell_type": "markdown",
   "id": "2094780c-8371-4298-87e0-0626864ee3a7",
   "metadata": {},
   "source": [
    "### Instalación de paquetes"
   ]
  },
  {
   "cell_type": "code",
   "execution_count": 14,
   "id": "68d7e088-30d4-4c6f-bdb3-8d5e6e30e2ec",
   "metadata": {},
   "outputs": [],
   "source": [
    "import xlsxwriter\n",
    "import pandas as pd\n",
    "import sys # Para establecer las rutas de acceso\n",
    "\n",
    "# La ruta es dentro del sistema del creador, cambiar a donde se tenga el módulo MensajesWhatsapp\n",
    "sys.path.append(r'C:\\Users\\mapis\\OneDrive\\Documents\\Universidad\\5 - Quinto semestre\\Herramientas para las ciencias de datos II\\Proyecto individual\\cod')"
   ]
  },
  {
   "cell_type": "code",
   "execution_count": 15,
   "id": "626e53cd-5943-4a3c-96fb-5c935e326166",
   "metadata": {},
   "outputs": [],
   "source": [
    "from EditorExcel import EditorExcel"
   ]
  },
  {
   "cell_type": "markdown",
   "id": "2171e60a-c3c8-4791-9ada-9e8e449404bf",
   "metadata": {},
   "source": [
    "### Prueba"
   ]
  },
  {
   "cell_type": "code",
   "execution_count": 17,
   "id": "932b52e5-67d3-4fe3-a67c-c1a3e971cfcb",
   "metadata": {},
   "outputs": [],
   "source": [
    "# Create a Pandas dataframe from the data.\n",
    "df = pd.DataFrame({'Data': [10, 20, 30, 20, 15, 30, 45]})\n",
    "\n",
    "# Create a Pandas Excel writer using XlsxWriter as the engine.\n",
    "writer = pd.ExcelWriter('pandas_simple.xlsx', engine='xlsxwriter')\n",
    "\n",
    "# Convert the dataframe to an XlsxWriter Excel object.\n",
    "df.to_excel(writer, sheet_name='Sheet1')\n",
    "\n",
    "# Get the xlsxwriter objects from the dataframe writer object.\n",
    "workbook  = writer.book\n",
    "worksheet = writer.sheets['Sheet1']\n",
    "\n",
    "# Necesario para cerrar el escritor, si no se pone, no es posible abrir el archivo\n",
    "writer.close()"
   ]
  },
  {
   "cell_type": "markdown",
   "id": "20252925-9a71-454c-9b9f-f1d50d7ffef1",
   "metadata": {},
   "source": [
    "# Web scraping"
   ]
  },
  {
   "cell_type": "markdown",
   "id": "57d70a59-d5cd-49ea-9335-1d55b96ed2b3",
   "metadata": {},
   "source": [
    "Para este proceso se usó como referencia un tutorial para hacer [web scraping](https://nanonets.com/blog/web-scraping-with-python-tutorial/)."
   ]
  },
  {
   "cell_type": "markdown",
   "id": "516679b7-9841-4fcf-9f38-2365e5d410da",
   "metadata": {},
   "source": [
    "### Instalación de paquetes"
   ]
  },
  {
   "cell_type": "code",
   "execution_count": 1,
   "id": "69e901a7-4792-4200-accf-ba0ab167ef63",
   "metadata": {},
   "outputs": [],
   "source": [
    "import requests # Para hacer solicitudes al sitio web\n",
    "from bs4 import BeautifulSoup # Para analizar el código del HTML\n",
    "import pandas as pd\n",
    "import time # Para añadir un cierto delay para no sobrecargar la página con las solucitudes\n",
    "import numpy as np"
   ]
  },
  {
   "cell_type": "markdown",
   "id": "21113f79-1f7e-4419-9c5b-182790864f87",
   "metadata": {},
   "source": [
    "### Extracción de los datos"
   ]
  },
  {
   "cell_type": "markdown",
   "id": "35f5e841-999a-4b70-a978-da576ef433cc",
   "metadata": {},
   "source": [
    "Se inicia el proceso de extracción de datos, para esto se eligió una página web de [compra/venta de carros](https://crautos.com/autosusados/), se usará el comando [find_all](https://j2logo.com/python/web-scraping-con-python-guia-inicio-beautifulsoup/#scraping-bs-pasos) de la librería BeautifulSoup, además, se buscó la manera de hacer casting de [string a float](https://ellibrodepython.com/casting-python#:~:text=class%20%27str%27>-,Convertir%20string%20a%20float,a%20float%20usando%20float()%20.) pues se ocupará para los precios."
   ]
  },
  {
   "cell_type": "code",
   "execution_count": 2,
   "id": "a6c4cec7",
   "metadata": {},
   "outputs": [],
   "source": [
    "# Se selecciona el url del que se extraerá la información\n",
    "url = \"https://crautos.com/autosusados/\"\n",
    "\n",
    "# Manda una solicitud para obtener la información de la página web (librería requests)\n",
    "respuesta = requests.get(url)\n",
    "\n",
    "# Se analiza la información del HTML (librería BeautifulSoup)\n",
    "sopa = BeautifulSoup(respuesta.content, 'html.parser')"
   ]
  },
  {
   "cell_type": "markdown",
   "id": "0d9a309d-0b4c-4057-8196-61eb6237ea73",
   "metadata": {},
   "source": [
    "#### Funciones necesarias"
   ]
  },
  {
   "cell_type": "markdown",
   "id": "da0db3d4-21d7-4fca-a912-17b40d32e5e2",
   "metadata": {},
   "source": [
    "Se procede a crear las funciones para extraer cada uno de los elementos necesarios de la página web."
   ]
  },
  {
   "cell_type": "code",
   "execution_count": 3,
   "id": "256f0fdd-bd19-4023-a53b-9042fedf8757",
   "metadata": {},
   "outputs": [],
   "source": [
    "def elementos_simples(sopa_bs4, tipo, clase):\n",
    "    '''\n",
    "    Función que extrae los elementos que no ocupan modificaciones de un HTML\n",
    "\n",
    "    Parameters\n",
    "    sopa : bs4.BeautifulSoup\n",
    "        HTML leído a trevés de la librería BeautifulSoup\n",
    "    tipo : str\n",
    "        Tipo de elemento a buscar y extraer de un elemento 'sopa' del paquete BeautifulSoup\n",
    "    clase : str\n",
    "        Clase de elemento a buscar y extraer de un elemento 'sopa' del paquete BeautifulSoup\n",
    "\n",
    "    Returns\n",
    "    lista_simple : list\n",
    "        Lista con los elementos encontrados dentro del HTML correspondiente\n",
    "    '''\n",
    "    # Lista para guardar los elementos correspondientes\n",
    "    lista_simple = []\n",
    "\n",
    "    # Se itera por cada uno de los elementos del HTML con la clase y el tipo especificado\n",
    "    for fila in sopa_bs4.find_all(tipo, class_ = clase):\n",
    "        # Se extrae el elemento y se agrega a la lista\n",
    "        elemento = fila.get_text()\n",
    "        lista_simple.append(elemento)\n",
    "\n",
    "        # Se deja un espacio de un segundo entre cada iteración, esto para no sobrecargar la página, pues en cada iteración se mete a ella\n",
    "        time.sleep(1)\n",
    "    return lista_simple"
   ]
  },
  {
   "cell_type": "code",
   "execution_count": 4,
   "id": "e504683e-bd04-49ad-b285-49709db71b62",
   "metadata": {},
   "outputs": [],
   "source": [
    "def elemento_anno(sopa_bs4, tipo, clase):\n",
    "    '''\n",
    "    Función que extrae los años de cada carro de la página web de crautos\n",
    "\n",
    "    Parameters\n",
    "    sopa : bs4.BeautifulSoup\n",
    "        HTML leído a trevés de la librería BeautifulSoup\n",
    "    tipo : str\n",
    "        Tipo de elemento a buscar y extraer de un elemento 'sopa' del paquete BeautifulSoup\n",
    "    clase : str\n",
    "        Clase de elemento a buscar y extraer de un elemento 'sopa' del paquete BeautifulSoup\n",
    "\n",
    "    Returns\n",
    "    lista_annos : list\n",
    "        Lista con los años encontrados dentro del HTML correspondiente\n",
    "    '''\n",
    "    # Lista para guardar los elementos correspondientes\n",
    "    lista_annos = []\n",
    "\n",
    "    # Se itera por cada uno de los elementos del HTML con la clase y el tipo especificado\n",
    "    for fila in sopa_bs4.find_all(tipo, class_ = clase):\n",
    "        # Extrae una cadena con muchos espacios, solo nos interesa el año (los primeros 4 caracteres)\n",
    "        anno = fila.find('b').get_text()[ : 4]\n",
    "        lista_annos.append(anno)\n",
    "\n",
    "        # Se deja un espacio de un segundo entre cada iteración, esto para no sobrecargar la página, pues en cada iteración se mete a ella\n",
    "        time.sleep(1)\n",
    "    return lista_annos"
   ]
  },
  {
   "cell_type": "code",
   "execution_count": 5,
   "id": "8144cc34-0200-40c7-8dd2-580bfc425c90",
   "metadata": {},
   "outputs": [],
   "source": [
    "def elemento_modelos(sopa_bs4, tipo, clase):\n",
    "    '''\n",
    "    Función que extrae los modelos de cada carro de la página web de crautos\n",
    "\n",
    "    Parameters\n",
    "    sopa : bs4.BeautifulSoup\n",
    "        HTML leído a trevés de la librería BeautifulSoup\n",
    "    tipo : str\n",
    "        Tipo de elemento a buscar y extraer de un elemento 'sopa' del paquete BeautifulSoup\n",
    "    clase : str\n",
    "        Clase de elemento a buscar y extraer de un elemento 'sopa' del paquete BeautifulSoup\n",
    "\n",
    "    Returns\n",
    "    lista_modelos : list\n",
    "        Lista con los modelos de carro encontrados dentro de la página web de crautos\n",
    "    '''\n",
    "    # Lista para guardar los elementos correspondientes\n",
    "    lista_modelos = []\n",
    "\n",
    "    # Se itera por cada uno de los elementos del HTML con la clase y el tipo especificado\n",
    "    for fila in sopa_bs4.find_all(tipo, class_ = clase):\n",
    "        # Extrae toda la información detallada del carro, quita los espacios del inicio y el final, separa por guiones y guarda el primer elemento\n",
    "        modelo = fila.get_text().strip().split(' - ')[0]\n",
    "        lista_modelos.append(modelo)\n",
    "\n",
    "        # Se deja un espacio de un segundo entre cada iteración, esto para no sobrecargar la página, pues en cada iteración se mete a ella\n",
    "        time.sleep(1)\n",
    "    return lista_modelos"
   ]
  },
  {
   "cell_type": "code",
   "execution_count": 6,
   "id": "e5be150b-bf59-4e7a-b6a2-248a12089816",
   "metadata": {},
   "outputs": [],
   "source": [
    "def elemento_transmision(sopa_bs4, tipo, clase):\n",
    "    '''\n",
    "    Función que extrae las transmisiones de cada carro de la página web de crautos\n",
    "\n",
    "    Parameters\n",
    "    sopa : bs4.BeautifulSoup\n",
    "        HTML leído a trevés de la librería BeautifulSoup\n",
    "    tipo : str\n",
    "        Tipo de elemento a buscar y extraer de un elemento 'sopa' del paquete BeautifulSoup\n",
    "    clase : str\n",
    "        Clase de elemento a buscar y extraer de un elemento 'sopa' del paquete BeautifulSoup\n",
    "\n",
    "    Returns\n",
    "    lista_transmisiones : list\n",
    "        Lista con las transmisiones de carro encontrados dentro de la página web de crautos\n",
    "    '''\n",
    "    # Lista para guardar los elementos correspondientes\n",
    "    lista_transmision = []\n",
    "\n",
    "    # Se itera por cada uno de los elementos del HTML con la clase y el tipo especificado\n",
    "    for fila in sopa_bs4.find_all(tipo, class_ = clase):\n",
    "        # Guardamos la fila, pues se le harán\n",
    "        fila_actual = fila.get_text()\n",
    "        \n",
    "        # Obtenemos la transmisión\n",
    "        if(fila_actual.count(\"Automático\") > 0):\n",
    "            transmision = \"Automático\"\n",
    "        elif(fila_actual.count(\"Manual\\r\\n\") > 0):\n",
    "            transmision = \"Manual\"\n",
    "        else:\n",
    "            transmision = np.nan\n",
    "        lista_transmision.append(transmision)\n",
    "\n",
    "        # Se deja un espacio de un segundo entre cada iteración, esto para no sobrecargar la página, pues en cada iteración se mete a ella\n",
    "        time.sleep(1)\n",
    "    return lista_transmision"
   ]
  },
  {
   "cell_type": "code",
   "execution_count": 7,
   "id": "79d8d139-624f-4966-a336-723f2afaa9c2",
   "metadata": {},
   "outputs": [],
   "source": [
    "def elemento_transmision(sopa_bs4, tipo, clase):\n",
    "    '''\n",
    "    Función que extrae las transmisiones de cada carro de la página web de crautos\n",
    "\n",
    "    Parameters\n",
    "    sopa : bs4.BeautifulSoup\n",
    "        HTML leído a trevés de la librería BeautifulSoup\n",
    "    tipo : str\n",
    "        Tipo de elemento a buscar y extraer de un elemento 'sopa' del paquete BeautifulSoup\n",
    "    clase : str\n",
    "        Clase de elemento a buscar y extraer de un elemento 'sopa' del paquete BeautifulSoup\n",
    "\n",
    "    Returns\n",
    "    lista_transmisiones : list\n",
    "        Lista con las transmisiones de carro encontrados dentro de la página web de crautos\n",
    "    '''\n",
    "    # Lista para guardar los elementos correspondientes\n",
    "    lista_transmision = []\n",
    "\n",
    "    # Se itera por cada uno de los elementos del HTML con la clase y el tipo especificado\n",
    "    for fila in sopa_bs4.find_all(tipo, class_ = clase):\n",
    "        # Guardamos la fila, pues se le harán\n",
    "        fila_actual = fila.get_text()\n",
    "        \n",
    "        # Obtenemos la transmisión\n",
    "        if(fila_actual.count(\"Automático\") > 0):\n",
    "            transmision = \"Automático\"\n",
    "        elif(fila_actual.count(\"Manual\\r\\n\") > 0):\n",
    "            transmision = \"Manual\"\n",
    "        else:\n",
    "            transmision = np.nan\n",
    "        lista_transmision.append(transmision)\n",
    "\n",
    "        # Se deja un espacio de un segundo entre cada iteración, esto para no sobrecargar la página, pues en cada iteración se mete a ella\n",
    "        time.sleep(1)\n",
    "    return lista_transmision"
   ]
  },
  {
   "cell_type": "code",
   "execution_count": 8,
   "id": "69384487-2623-47ba-99eb-4607b4e0f1c5",
   "metadata": {},
   "outputs": [],
   "source": [
    "def elemento_precio(sopa_bs4, tipo, clase):\n",
    "    '''\n",
    "    Función que extrae el precio, en colones, de cada carro de la página web de crautos\n",
    "\n",
    "    Parameters\n",
    "    sopa : bs4.BeautifulSoup\n",
    "        HTML leído a trevés de la librería BeautifulSoup\n",
    "    tipo : str\n",
    "        Tipo de elemento a buscar y extraer de un elemento 'sopa' del paquete BeautifulSoup\n",
    "    clase : str\n",
    "        Clase de elemento a buscar y extraer de un elemento 'sopa' del paquete BeautifulSoup\n",
    "\n",
    "    Returns\n",
    "    lista_precios : list\n",
    "        Lista con los precios, en colones, de cada carro encontrados dentro de la página web de crautos\n",
    "    '''\n",
    "    # Se inicia extrayendo el tipo de cambio\n",
    "    tipo_cambio = 0\n",
    "    \n",
    "    for fila in sopa_bs4.find_all('div', class_ = 'brandtitle2'):\n",
    "        if(fila.get_text().count(\"Tipo de cambio: \") > 0):\n",
    "            tipo_cambio = float(fila.get_text().split(\"¢\")[1][0:5])\n",
    "    \n",
    "    # Lista para guardar los elementos correspondientes\n",
    "    lista_precios = []\n",
    "\n",
    "    # Se itera por cada uno de los elementos del HTML con la clase y el tipo especificado\n",
    "    for fila in sopa_bs4.find_all(tipo, class_ = clase):\n",
    "        # Removemos las comas de los precios\n",
    "        fila_limpia = fila.get_text().replace(\",\", \"\")\n",
    "        \n",
    "        # Ponemos el precio, en caso de que esté en dólares se multiplica por el tipo de cambio de la página\n",
    "        if(fila_limpia.count(\"¢\") > 0):\n",
    "            coste = float(fila_limpia.split(\"¢ \")[1][0:8])\n",
    "        elif(fila_limpia.count(\"$\") > 0):\n",
    "            coste = float(fila_limpia.split(\"$\")[1][0:5])\n",
    "            coste = coste * tipo_cambio\n",
    "        else:\n",
    "            coste = np.nan\n",
    "        lista_precios.append(coste)\n",
    "\n",
    "        # Se deja un espacio de un segundo entre cada iteración, esto para no sobrecargar la página, pues en cada iteración se mete a ella\n",
    "        time.sleep(1)\n",
    "    return lista_precios"
   ]
  },
  {
   "cell_type": "code",
   "execution_count": 9,
   "id": "12efd0bb-0f19-4b75-9edf-c9ae99eb7e3f",
   "metadata": {},
   "outputs": [],
   "source": [
    "# Hay otros precios que no se pueden extraer con la función anterior, por lo que se hará una función para estos últimos\n",
    "def elemento_precio_b(sopa_bs4, tipo, clase):\n",
    "    '''\n",
    "    Función que extrae el precio, en colones, de cada carro de la página web de crautos\n",
    "\n",
    "    Parameters\n",
    "    sopa : bs4.BeautifulSoup\n",
    "        HTML leído a trevés de la librería BeautifulSoup\n",
    "    tipo : str\n",
    "        Tipo de elemento a buscar y extraer de un elemento 'sopa' del paquete BeautifulSoup\n",
    "    clase : str\n",
    "        Clase de elemento a buscar y extraer de un elemento 'sopa' del paquete BeautifulSoup\n",
    "\n",
    "    Returns\n",
    "    lista_precios : list\n",
    "        Lista con los precios, en colones, de cada carro encontrados dentro de la página web de crautos\n",
    "    '''\n",
    "    # Se inicia extrayendo el tipo de cambio\n",
    "    tipo_cambio = 0\n",
    "    \n",
    "    for fila in sopa_bs4.find_all('div', class_ = 'brandtitle2'):\n",
    "        if(fila.get_text().count(\"Tipo de cambio: \") > 0):\n",
    "            tipo_cambio = float(fila.get_text().split(\"¢\")[1][0:5])\n",
    "    \n",
    "    # Lista para guardar los elementos correspondientes\n",
    "    lista_precios = []\n",
    "    \n",
    "    # Para la siguiente parte, se encuentran algunos repetidos, por lo que se hará un set para evitar este problema\n",
    "    lista_sec = set(sopa_bs4.find_all(tipo, class_ = clase))\n",
    "    \n",
    "    # Se itera por cada uno de los elementos del HTML con la clase y el tipo especificado\n",
    "    for fila in lista_sec:\n",
    "        # Removemos las comas de los precios\n",
    "        fila_limpia = fila.get_text().replace(\",\", \"\")\n",
    "        \n",
    "        if(fila_limpia.count(\"¢\") > 0):\n",
    "            coste = float(fila_limpia.split(\"¢\")[1][1:8])\n",
    "        elif(fila_limpia.count(\"$\") > 0):\n",
    "            coste = float(fila_limpia.split(\"$\")[1][0:5])\n",
    "            coste = coste * tipo_cambio\n",
    "        else:\n",
    "            coste = np.nan\n",
    "        lista_precios.append(coste)\n",
    "\n",
    "        # Se deja un espacio de un segundo entre cada iteración, esto para no sobrecargar la página, pues en cada iteración se mete a ella\n",
    "        time.sleep(1)\n",
    "    return lista_precios"
   ]
  },
  {
   "cell_type": "markdown",
   "id": "c3797090-4628-4716-ba2a-921d95d96d93",
   "metadata": {},
   "source": [
    "#### Recolección de datos de crautos"
   ]
  },
  {
   "cell_type": "markdown",
   "id": "43808ef2-9477-48c7-8335-0c50d1de595c",
   "metadata": {},
   "source": [
    "Con las funciones anteriores, se procede a obtener todos los elementos para el DataFrame."
   ]
  },
  {
   "cell_type": "code",
   "execution_count": 10,
   "id": "727cac05-b0f4-4f60-b39a-2ee2b465e40c",
   "metadata": {},
   "outputs": [],
   "source": [
    "# Iniciando por la marca del carro\n",
    "marcas = elementos_simples(sopa, 'span', 'brandtitle')\n",
    "marcas_2 = elementos_simples(sopa, 'td', 'brandtitle2')\n",
    "\n",
    "# Juntamos las 2 listas de marcas\n",
    "marcas = marcas + marcas_2\n",
    "\n",
    "# Seguimos con los modelos\n",
    "modelos = elemento_modelos(sopa, 'td', 'modeltitle')\n",
    "\n",
    "# Continuamos con los años\n",
    "annos = elemento_anno(sopa, 'td', 'modeltitle')\n",
    "\n",
    "# Luego con la transmisión\n",
    "transmisiones = elemento_transmision(sopa, 'div', 'transtitle')\n",
    "\n",
    "# Extraemos el precio\n",
    "precio = elemento_precio(sopa, 'td', 'precio')\n",
    "precio_2 = elemento_precio_b(sopa, 'span', 'precio')\n",
    "\n",
    "# Juntamos las listas de precios\n",
    "precio = precio + precio_2"
   ]
  },
  {
   "cell_type": "markdown",
   "id": "0f64e8f0-8958-4944-9638-63ace5a71a86",
   "metadata": {},
   "source": [
    "El DataFrame de crautos es el siguiente."
   ]
  },
  {
   "cell_type": "code",
   "execution_count": 11,
   "id": "b3438c9b-ca36-492d-be2d-f7dbf9e9418b",
   "metadata": {},
   "outputs": [
    {
     "data": {
      "text/html": [
       "<div>\n",
       "<style scoped>\n",
       "    .dataframe tbody tr th:only-of-type {\n",
       "        vertical-align: middle;\n",
       "    }\n",
       "\n",
       "    .dataframe tbody tr th {\n",
       "        vertical-align: top;\n",
       "    }\n",
       "\n",
       "    .dataframe thead th {\n",
       "        text-align: right;\n",
       "    }\n",
       "</style>\n",
       "<table border=\"1\" class=\"dataframe\">\n",
       "  <thead>\n",
       "    <tr style=\"text-align: right;\">\n",
       "      <th></th>\n",
       "      <th>Marca</th>\n",
       "      <th>Modelo</th>\n",
       "      <th>Años</th>\n",
       "      <th>Transmisiones</th>\n",
       "      <th>Precio</th>\n",
       "      <th>Origen</th>\n",
       "    </tr>\n",
       "  </thead>\n",
       "  <tbody>\n",
       "    <tr>\n",
       "      <th>57</th>\n",
       "      <td>Renault</td>\n",
       "      <td>DUSTER</td>\n",
       "      <td>2013</td>\n",
       "      <td>Automático</td>\n",
       "      <td>2000000.0</td>\n",
       "      <td>crautos</td>\n",
       "    </tr>\n",
       "    <tr>\n",
       "      <th>58</th>\n",
       "      <td>Honda</td>\n",
       "      <td>CRV EX</td>\n",
       "      <td>2007</td>\n",
       "      <td>Automático</td>\n",
       "      <td>4150000.0</td>\n",
       "      <td>crautos</td>\n",
       "    </tr>\n",
       "    <tr>\n",
       "      <th>59</th>\n",
       "      <td>Hyundai</td>\n",
       "      <td>TUCSON GL</td>\n",
       "      <td>2023</td>\n",
       "      <td>Automático</td>\n",
       "      <td>250000.0</td>\n",
       "      <td>crautos</td>\n",
       "    </tr>\n",
       "    <tr>\n",
       "      <th>60</th>\n",
       "      <td>Land Rover</td>\n",
       "      <td>DISCOVERY SE</td>\n",
       "      <td>2017</td>\n",
       "      <td>Manual</td>\n",
       "      <td>8490000.0</td>\n",
       "      <td>crautos</td>\n",
       "    </tr>\n",
       "    <tr>\n",
       "      <th>61</th>\n",
       "      <td>Nissan</td>\n",
       "      <td>QASHQAI</td>\n",
       "      <td>2021</td>\n",
       "      <td>Manual</td>\n",
       "      <td>1850000.0</td>\n",
       "      <td>crautos</td>\n",
       "    </tr>\n",
       "  </tbody>\n",
       "</table>\n",
       "</div>"
      ],
      "text/plain": [
       "         Marca         Modelo  Años Transmisiones     Precio   Origen\n",
       "57     Renault         DUSTER  2013    Automático  2000000.0  crautos\n",
       "58       Honda        CRV EX   2007    Automático  4150000.0  crautos\n",
       "59     Hyundai     TUCSON GL   2023    Automático   250000.0  crautos\n",
       "60  Land Rover  DISCOVERY SE   2017        Manual  8490000.0  crautos\n",
       "61      Nissan        QASHQAI  2021        Manual  1850000.0  crautos"
      ]
     },
     "execution_count": 11,
     "metadata": {},
     "output_type": "execute_result"
    }
   ],
   "source": [
    "df_carros = pd.DataFrame(\n",
    "    {\"Marca\": marcas,\n",
    "     \"Modelo\": modelos, \n",
    "     \"Años\": annos, \n",
    "     \"Transmisiones\": transmisiones[0:62],\n",
    "     \"Precio\": precio[0:62]})\n",
    "\n",
    "# Se agrega un indicador para diferenciar posteriormente cada página web\n",
    "df_carros['Origen'] = 'crautos'\n",
    "\n",
    "df_carros.tail()"
   ]
  },
  {
   "cell_type": "markdown",
   "id": "ace1b614-4892-427b-b55e-c6b6644c6cdd",
   "metadata": {},
   "source": [
    "#### Extracción de Mercado libre"
   ]
  },
  {
   "cell_type": "markdown",
   "id": "305f843b-237d-49c3-ba32-a3df02476325",
   "metadata": {},
   "source": [
    "Con uno de los DataFrames ya creados, se procede a hacer uno similar con otra página de [compra/venta de automóviles](https://autos.mercadolibre.co.cr/autos-camionetas/usados/autos-usados), para esto se extraerán los mismos elementos que el el DataFrame anterior para compararlo.\n",
    "\n",
    "Para esto, se buscó sobre la forma de obtener las entradas [impares](https://j2logo.com/python/tutorial/tipo-list-python/#list-methods) de una lista con ::, es decir, la entrada 1, 3, 5, ..."
   ]
  },
  {
   "cell_type": "code",
   "execution_count": 12,
   "id": "2c67dc3c-dc56-41bc-b9ab-1489662d20d0",
   "metadata": {},
   "outputs": [],
   "source": [
    "# Se selecciona el url del que se extraerá la información\n",
    "url = \"https://autos.mercadolibre.co.cr/autos-camionetas/usados/autos-usados\"\n",
    "\n",
    "# Manda una solicitud para obtener la información de la página web (librería requests)\n",
    "respuesta = requests.get(url)\n",
    "\n",
    "# Se analiza la información del HTML (librería BeautifulSoup)\n",
    "sopa = BeautifulSoup(respuesta.content, 'html.parser')"
   ]
  },
  {
   "cell_type": "markdown",
   "id": "006ae1aa-78f4-41bf-ab9c-65681466b381",
   "metadata": {},
   "source": [
    "Se hará una función para extraer el precio, para comparar de manera justa, se usará el tipo de cambio de crautos para aquellos automóviles que tengan el precio en dólares, esto ya que MercadoLibre no incorpora uno en su página."
   ]
  },
  {
   "cell_type": "code",
   "execution_count": 13,
   "id": "0e0c9491-a986-480c-9fdf-44683226df3d",
   "metadata": {},
   "outputs": [],
   "source": [
    "def precio_final(sopa_bs4):\n",
    "    '''\n",
    "    Función que extrae el precio, en colones, de cada carro de la página web de crautos\n",
    "\n",
    "    Parameters\n",
    "    sopa : bs4.BeautifulSoup\n",
    "        HTML leído a trevés de la librería BeautifulSoup\n",
    "    tipo : str\n",
    "        Tipo de elemento a buscar y extraer de un elemento 'sopa' del paquete BeautifulSoup\n",
    "    clase : str\n",
    "        Clase de elemento a buscar y extraer de un elemento 'sopa' del paquete BeautifulSoup\n",
    "\n",
    "    Returns\n",
    "    lista_precios : list\n",
    "        Lista con los precios, en colones, de cada carro encontrados dentro de la página web de crautos\n",
    "    '''\n",
    "    # Se inicia extrayendo el tipo de cambio de la página de crautos\n",
    "    url = \"https://crautos.com/autosusados/\"\n",
    "    \n",
    "    # Manda una solicitud para obtener la información de la página web (librería requests)\n",
    "    respuesta = requests.get(url)\n",
    "    \n",
    "    # Se analiza la información del HTML (librería BeautifulSoup)\n",
    "    sopa_tc = BeautifulSoup(respuesta.content, 'html.parser')\n",
    "    \n",
    "    tipo_cambio = 0\n",
    "    \n",
    "    for fila in sopa_tc.find_all('div', class_ = 'brandtitle2'):\n",
    "        if(fila.get_text().count(\"Tipo de cambio: \") > 0):\n",
    "            tipo_cambio = float(fila.get_text().split(\"¢\")[1][0:5])\n",
    "    \n",
    "    # Lista para guardar los elementos correspondientes\n",
    "    lista_precios = []\n",
    "    \n",
    "    # Se extraen el monto y la moneda por separado\n",
    "    moneda = elementos_simples(sopa_bs4, 'span', 'andes-money-amount__currency-symbol')\n",
    "    monto = elementos_simples(sopa_bs4, 'span', 'andes-money-amount__fraction')\n",
    "    \n",
    "    # Se itera por cada uno de los elementos del HTML con la clase y el tipo especificado\n",
    "    for iterador in range(len(monto)):\n",
    "        # Removemos las comas de los precios\n",
    "        cantidad = monto[iterador].replace(\",\", \"\")\n",
    "\n",
    "        # Separamos los casos\n",
    "        if(moneda[iterador].count(\"₡\") > 0):\n",
    "            coste = float(cantidad)\n",
    "        elif(moneda[iterador].count(\"US$\") > 0):\n",
    "            coste = float(cantidad)\n",
    "            coste = coste * tipo_cambio\n",
    "        else:\n",
    "            coste = np.nan\n",
    "        lista_precios.append(coste)\n",
    "\n",
    "        # Se deja un espacio de un segundo entre cada iteración, esto para no sobrecargar la página, pues en cada iteración se mete a ella\n",
    "        time.sleep(1)\n",
    "    return lista_precios"
   ]
  },
  {
   "cell_type": "code",
   "execution_count": 14,
   "id": "bca07736-c729-4528-a3a8-d226603d5f09",
   "metadata": {},
   "outputs": [],
   "source": [
    "# Se extraen la marca y el modelo\n",
    "modelos_unidos = elementos_simples(sopa, 'h2', 'poly-box')\n",
    "\n",
    "# La primera palabra es la marca, el resto es el modelo, por lo que se separa cada una\n",
    "marcas = [entrada.split()[0] for entrada in modelos_unidos]\n",
    "modelos = [\" \".join(entrada.split()[1:]) for entrada in modelos_unidos]\n",
    "\n",
    "# Se extrae el año del vehículo\n",
    "annos = elementos_simples(sopa, 'li', 'poly-attributes-list__item poly-attributes-list__bar')\n",
    "\n",
    "# Se dejan solo las entradas impares (1, 3, 5, 7, ...) pues las pares contienen el kilometraje, el cuál no se ocupa para este proceso\n",
    "annos = annos[::2]\n",
    "\n",
    "# Se obtienen los precios\n",
    "precios = precio_final(sopa)"
   ]
  },
  {
   "cell_type": "markdown",
   "id": "24894726-aafa-4f56-ba98-c39cad612aca",
   "metadata": {},
   "source": [
    "Repetiremos el proceso con la segunda página de Mercado libre, para tener una muestra más grande."
   ]
  },
  {
   "cell_type": "code",
   "execution_count": 15,
   "id": "8a47f6d2-b9d1-45ec-ae26-bc32534b4a00",
   "metadata": {},
   "outputs": [],
   "source": [
    "# Se selecciona el url del que se extraerá la información\n",
    "url = \"https://autos.mercadolibre.co.cr/autos-camionetas/usados/autos-usados_Desde_49_NoIndex_True\"\n",
    "\n",
    "# Manda una solicitud para obtener la información de la página web (librería requests)\n",
    "respuesta = requests.get(url)\n",
    "\n",
    "# Se analiza la información del HTML (librería BeautifulSoup)\n",
    "sopa = BeautifulSoup(respuesta.content, 'html.parser')"
   ]
  },
  {
   "cell_type": "code",
   "execution_count": 16,
   "id": "87714b29-1468-4292-83c2-6b42c8aab99d",
   "metadata": {},
   "outputs": [],
   "source": [
    "# Se extraen la marca y el modelo\n",
    "modelos_unidos_2 = elementos_simples(sopa, 'h2', 'poly-box')\n",
    "\n",
    "# La primera palabra es la marca, el resto es el modelo, por lo que se separa cada una\n",
    "marcas_2 = [entrada.split()[0] for entrada in modelos_unidos_2]\n",
    "modelos_2 = [\" \".join(entrada.split()[1:]) for entrada in modelos_unidos_2]\n",
    "\n",
    "# Se extrae el año del vehículo\n",
    "annos_2 = elementos_simples(sopa, 'li', 'poly-attributes-list__item poly-attributes-list__bar')\n",
    "\n",
    "# Se dejan solo las entradas impares (1, 3, 5, 7, ...) pues las pares contienen el kilometraje, el cuál no se ocupa para este proceso\n",
    "annos_2 = annos_2[::2]\n",
    "\n",
    "# Se obtienen los precios\n",
    "precios_2 = precio_final(sopa)"
   ]
  },
  {
   "cell_type": "code",
   "execution_count": 17,
   "id": "afff0411-c31a-45a4-9026-6faa870859b3",
   "metadata": {},
   "outputs": [],
   "source": [
    "# Se juntan las listas anteriores\n",
    "marcas = marcas + marcas_2\n",
    "modelos = modelos + modelos_2\n",
    "annos = annos + annos_2\n",
    "precios = precios + precios_2"
   ]
  },
  {
   "cell_type": "code",
   "execution_count": 18,
   "id": "280c2b77-50b6-4947-a881-5dc1c4b55f0d",
   "metadata": {},
   "outputs": [
    {
     "data": {
      "text/html": [
       "<div>\n",
       "<style scoped>\n",
       "    .dataframe tbody tr th:only-of-type {\n",
       "        vertical-align: middle;\n",
       "    }\n",
       "\n",
       "    .dataframe tbody tr th {\n",
       "        vertical-align: top;\n",
       "    }\n",
       "\n",
       "    .dataframe thead th {\n",
       "        text-align: right;\n",
       "    }\n",
       "</style>\n",
       "<table border=\"1\" class=\"dataframe\">\n",
       "  <thead>\n",
       "    <tr style=\"text-align: right;\">\n",
       "      <th></th>\n",
       "      <th>Marca</th>\n",
       "      <th>Modelo</th>\n",
       "      <th>Años</th>\n",
       "      <th>Precio</th>\n",
       "      <th>Origen</th>\n",
       "    </tr>\n",
       "  </thead>\n",
       "  <tbody>\n",
       "    <tr>\n",
       "      <th>91</th>\n",
       "      <td>Mitsubishi</td>\n",
       "      <td>Montero Sport 4x4</td>\n",
       "      <td>2017</td>\n",
       "      <td>18250000.0</td>\n",
       "      <td>Mercado libre</td>\n",
       "    </tr>\n",
       "    <tr>\n",
       "      <th>92</th>\n",
       "      <td>Toyota</td>\n",
       "      <td>Fortuner Manua</td>\n",
       "      <td>2007</td>\n",
       "      <td>18500.0</td>\n",
       "      <td>Mercado libre</td>\n",
       "    </tr>\n",
       "    <tr>\n",
       "      <th>93</th>\n",
       "      <td>Toyota</td>\n",
       "      <td>Yaris Nacional</td>\n",
       "      <td>2011</td>\n",
       "      <td>5900000.0</td>\n",
       "      <td>Mercado libre</td>\n",
       "    </tr>\n",
       "    <tr>\n",
       "      <th>94</th>\n",
       "      <td>Isuzu</td>\n",
       "      <td>Dmax 2017 4x2 D-max Dmax Turbo</td>\n",
       "      <td>2017</td>\n",
       "      <td>10800000.0</td>\n",
       "      <td>Mercado libre</td>\n",
       "    </tr>\n",
       "    <tr>\n",
       "      <th>95</th>\n",
       "      <td>No</td>\n",
       "      <td>Disponible Contenedor Estruct A Carga</td>\n",
       "      <td>1999</td>\n",
       "      <td>1350000.0</td>\n",
       "      <td>Mercado libre</td>\n",
       "    </tr>\n",
       "  </tbody>\n",
       "</table>\n",
       "</div>"
      ],
      "text/plain": [
       "         Marca                                 Modelo  Años      Precio  \\\n",
       "91  Mitsubishi                      Montero Sport 4x4  2017  18250000.0   \n",
       "92      Toyota                         Fortuner Manua  2007     18500.0   \n",
       "93      Toyota                         Yaris Nacional  2011   5900000.0   \n",
       "94       Isuzu         Dmax 2017 4x2 D-max Dmax Turbo  2017  10800000.0   \n",
       "95          No  Disponible Contenedor Estruct A Carga  1999   1350000.0   \n",
       "\n",
       "           Origen  \n",
       "91  Mercado libre  \n",
       "92  Mercado libre  \n",
       "93  Mercado libre  \n",
       "94  Mercado libre  \n",
       "95  Mercado libre  "
      ]
     },
     "execution_count": 18,
     "metadata": {},
     "output_type": "execute_result"
    }
   ],
   "source": [
    "df_carros_b = pd.DataFrame(\n",
    "    {\"Marca\": marcas,\n",
    "     \"Modelo\": modelos, \n",
    "     \"Años\": annos,\n",
    "     \"Precio\": precios}\n",
    ")\n",
    "\n",
    "df_carros_b['Origen'] = 'Mercado libre'\n",
    "\n",
    "df_carros_b.tail()"
   ]
  },
  {
   "cell_type": "code",
   "execution_count": 5,
   "id": "9a918176-ead8-48fb-89ae-4a8bf1ddfa95",
   "metadata": {},
   "outputs": [],
   "source": [
    "# Se guardan los DataFrames en excel para añadir más observaciones el día siguiente, estos se comentan para no guardar archivos en cada ejecución\n",
    "# df_carros.to_excel('autos_crautos.xlsx', index = False)\n",
    "# df_carros_b.to_excel('autos_mercado_libre.xlsx', index = False)"
   ]
  },
  {
   "cell_type": "markdown",
   "id": "663dd9c0-a117-41c4-9ae0-2425d7b3690e",
   "metadata": {},
   "source": [
    "### Análisis con los datos"
   ]
  },
  {
   "cell_type": "markdown",
   "id": "0baef20e-65c8-4893-9d77-f404bb453144",
   "metadata": {},
   "source": [
    "Para iniciar con el análisis respectivo, se unirán los 2 DataFrames creados."
   ]
  }
 ],
 "metadata": {
  "kernelspec": {
   "display_name": "Python 3 (ipykernel)",
   "language": "python",
   "name": "python3"
  },
  "language_info": {
   "codemirror_mode": {
    "name": "ipython",
    "version": 3
   },
   "file_extension": ".py",
   "mimetype": "text/x-python",
   "name": "python",
   "nbconvert_exporter": "python",
   "pygments_lexer": "ipython3",
   "version": "3.9.13"
  }
 },
 "nbformat": 4,
 "nbformat_minor": 5
}
